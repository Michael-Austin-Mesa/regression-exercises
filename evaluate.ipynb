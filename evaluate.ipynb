{
 "cells": [
  {
   "cell_type": "code",
   "execution_count": 48,
   "id": "9340277c",
   "metadata": {},
   "outputs": [],
   "source": [
    "import pandas as pd\n",
    "import numpy as np\n",
    "import seaborn as sns\n",
    "import math\n",
    "from scipy import stats\n",
    "from sklearn.preprocessing import MinMaxScaler, StandardScaler, RobustScaler, QuantileTransformer\n",
    "from sklearn.model_selection import train_test_split\n",
    "from sklearn.linear_model import LinearRegression\n",
    "from sklearn.metrics import mean_squared_error\n",
    "import matplotlib.pyplot as plt\n",
    "\n",
    "import mirz_wrangle as w"
   ]
  },
  {
   "cell_type": "markdown",
   "id": "8a6709e4",
   "metadata": {},
   "source": [
    "# Q2"
   ]
  },
  {
   "cell_type": "code",
   "execution_count": 2,
   "id": "0ce93fd9",
   "metadata": {},
   "outputs": [],
   "source": [
    "df = w.wrangle_zillow()"
   ]
  },
  {
   "cell_type": "code",
   "execution_count": 3,
   "id": "ef8e0c99",
   "metadata": {},
   "outputs": [],
   "source": [
    "train, validate, test = w.split_data(df)"
   ]
  },
  {
   "cell_type": "code",
   "execution_count": 4,
   "id": "8e4434f7",
   "metadata": {},
   "outputs": [],
   "source": [
    "#baseline maybe\n",
    "train['yhat_tax_val_baseline'] = train['tax_value'].mean()"
   ]
  },
  {
   "cell_type": "code",
   "execution_count": 5,
   "id": "f6cd1553",
   "metadata": {},
   "outputs": [],
   "source": [
    "#sample of train for visuals\n",
    "train_viz = train.sample(frac=.001, replace=True, random_state=777)"
   ]
  },
  {
   "cell_type": "code",
   "execution_count": 6,
   "id": "eb886837",
   "metadata": {},
   "outputs": [],
   "source": [
    "#target variable\n",
    "y = train_viz[['tax_value']]"
   ]
  },
  {
   "cell_type": "code",
   "execution_count": 7,
   "id": "eb426af2",
   "metadata": {},
   "outputs": [],
   "source": [
    "#we can adjust this\n",
    "x = train_viz[['sq_feet']]"
   ]
  },
  {
   "cell_type": "code",
   "execution_count": 8,
   "id": "f6b9ca9b",
   "metadata": {},
   "outputs": [],
   "source": [
    "#ordinary least square model\n",
    "ols_model = LinearRegression().fit(x,y)"
   ]
  },
  {
   "cell_type": "code",
   "execution_count": 9,
   "id": "7b47d677",
   "metadata": {},
   "outputs": [],
   "source": [
    "#predictions to compare to baseline\n",
    "train_viz['yhat_tax_val_sq_ft'] = ols_model.predict(x)"
   ]
  },
  {
   "cell_type": "code",
   "execution_count": 10,
   "id": "c5ad17a3",
   "metadata": {},
   "outputs": [
    {
     "data": {
      "text/html": [
       "<div>\n",
       "<style scoped>\n",
       "    .dataframe tbody tr th:only-of-type {\n",
       "        vertical-align: middle;\n",
       "    }\n",
       "\n",
       "    .dataframe tbody tr th {\n",
       "        vertical-align: top;\n",
       "    }\n",
       "\n",
       "    .dataframe thead th {\n",
       "        text-align: right;\n",
       "    }\n",
       "</style>\n",
       "<table border=\"1\" class=\"dataframe\">\n",
       "  <thead>\n",
       "    <tr style=\"text-align: right;\">\n",
       "      <th></th>\n",
       "      <th>bedrooms</th>\n",
       "      <th>bathrooms</th>\n",
       "      <th>sq_feet</th>\n",
       "      <th>tax_value</th>\n",
       "      <th>year_built</th>\n",
       "      <th>tax_amount</th>\n",
       "      <th>fips</th>\n",
       "      <th>yhat_tax_val_baseline</th>\n",
       "      <th>yhat_tax_val_sq_ft</th>\n",
       "    </tr>\n",
       "  </thead>\n",
       "  <tbody>\n",
       "    <tr>\n",
       "      <th>1634157</th>\n",
       "      <td>3</td>\n",
       "      <td>0.0</td>\n",
       "      <td>3707</td>\n",
       "      <td>556194</td>\n",
       "      <td>1973</td>\n",
       "      <td>5926.30</td>\n",
       "      <td>6111</td>\n",
       "      <td>398512.769647</td>\n",
       "      <td>865425.440702</td>\n",
       "    </tr>\n",
       "    <tr>\n",
       "      <th>1932600</th>\n",
       "      <td>4</td>\n",
       "      <td>2.0</td>\n",
       "      <td>1820</td>\n",
       "      <td>523630</td>\n",
       "      <td>1955</td>\n",
       "      <td>6124.80</td>\n",
       "      <td>6037</td>\n",
       "      <td>398512.769647</td>\n",
       "      <td>410748.814276</td>\n",
       "    </tr>\n",
       "    <tr>\n",
       "      <th>1362910</th>\n",
       "      <td>5</td>\n",
       "      <td>3.0</td>\n",
       "      <td>3816</td>\n",
       "      <td>687233</td>\n",
       "      <td>1972</td>\n",
       "      <td>8567.92</td>\n",
       "      <td>6037</td>\n",
       "      <td>398512.769647</td>\n",
       "      <td>891689.220395</td>\n",
       "    </tr>\n",
       "    <tr>\n",
       "      <th>1761877</th>\n",
       "      <td>4</td>\n",
       "      <td>2.0</td>\n",
       "      <td>1600</td>\n",
       "      <td>190359</td>\n",
       "      <td>1992</td>\n",
       "      <td>3196.29</td>\n",
       "      <td>6037</td>\n",
       "      <td>398512.769647</td>\n",
       "      <td>357739.350676</td>\n",
       "    </tr>\n",
       "    <tr>\n",
       "      <th>1140986</th>\n",
       "      <td>3</td>\n",
       "      <td>4.0</td>\n",
       "      <td>3287</td>\n",
       "      <td>1280000</td>\n",
       "      <td>1997</td>\n",
       "      <td>13428.88</td>\n",
       "      <td>6059</td>\n",
       "      <td>398512.769647</td>\n",
       "      <td>764225.555647</td>\n",
       "    </tr>\n",
       "  </tbody>\n",
       "</table>\n",
       "</div>"
      ],
      "text/plain": [
       "         bedrooms  bathrooms  sq_feet  tax_value  year_built  tax_amount  \\\n",
       "1634157         3        0.0     3707     556194        1973     5926.30   \n",
       "1932600         4        2.0     1820     523630        1955     6124.80   \n",
       "1362910         5        3.0     3816     687233        1972     8567.92   \n",
       "1761877         4        2.0     1600     190359        1992     3196.29   \n",
       "1140986         3        4.0     3287    1280000        1997    13428.88   \n",
       "\n",
       "         fips  yhat_tax_val_baseline  yhat_tax_val_sq_ft  \n",
       "1634157  6111          398512.769647       865425.440702  \n",
       "1932600  6037          398512.769647       410748.814276  \n",
       "1362910  6037          398512.769647       891689.220395  \n",
       "1761877  6037          398512.769647       357739.350676  \n",
       "1140986  6059          398512.769647       764225.555647  "
      ]
     },
     "execution_count": 10,
     "metadata": {},
     "output_type": "execute_result"
    }
   ],
   "source": [
    "train_viz.head()"
   ]
  },
  {
   "cell_type": "markdown",
   "id": "f31f10c6",
   "metadata": {},
   "source": [
    "# Q3"
   ]
  },
  {
   "cell_type": "code",
   "execution_count": 11,
   "id": "c0f294db",
   "metadata": {},
   "outputs": [],
   "source": [
    "#train_viz['residual_tax_val'] = train_viz['yhat_tax_val_sq_ft'] - train_viz['tax_value']\n",
    "#train_viz['residual_baseline'] = train_viz['yhat_tax_val_baseline'] - train_viz['tax_value']"
   ]
  },
  {
   "cell_type": "code",
   "execution_count": 12,
   "id": "dcaa51c3",
   "metadata": {},
   "outputs": [],
   "source": [
    "train_viz['residual_tax_val'] = train_viz['tax_value'] - train_viz['yhat_tax_val_sq_ft']\n",
    "train_viz['residual_baseline'] = train_viz['tax_value'] - train_viz['yhat_tax_val_baseline']"
   ]
  },
  {
   "cell_type": "code",
   "execution_count": 13,
   "id": "863a8c6a",
   "metadata": {},
   "outputs": [
    {
     "data": {
      "text/html": [
       "<div>\n",
       "<style scoped>\n",
       "    .dataframe tbody tr th:only-of-type {\n",
       "        vertical-align: middle;\n",
       "    }\n",
       "\n",
       "    .dataframe tbody tr th {\n",
       "        vertical-align: top;\n",
       "    }\n",
       "\n",
       "    .dataframe thead th {\n",
       "        text-align: right;\n",
       "    }\n",
       "</style>\n",
       "<table border=\"1\" class=\"dataframe\">\n",
       "  <thead>\n",
       "    <tr style=\"text-align: right;\">\n",
       "      <th></th>\n",
       "      <th>bedrooms</th>\n",
       "      <th>bathrooms</th>\n",
       "      <th>sq_feet</th>\n",
       "      <th>tax_value</th>\n",
       "      <th>year_built</th>\n",
       "      <th>tax_amount</th>\n",
       "      <th>fips</th>\n",
       "      <th>yhat_tax_val_baseline</th>\n",
       "      <th>yhat_tax_val_sq_ft</th>\n",
       "      <th>residual_tax_val</th>\n",
       "      <th>residual_baseline</th>\n",
       "    </tr>\n",
       "  </thead>\n",
       "  <tbody>\n",
       "    <tr>\n",
       "      <th>1634157</th>\n",
       "      <td>3</td>\n",
       "      <td>0.0</td>\n",
       "      <td>3707</td>\n",
       "      <td>556194</td>\n",
       "      <td>1973</td>\n",
       "      <td>5926.30</td>\n",
       "      <td>6111</td>\n",
       "      <td>398512.769647</td>\n",
       "      <td>865425.440702</td>\n",
       "      <td>-309231.440702</td>\n",
       "      <td>157681.230353</td>\n",
       "    </tr>\n",
       "    <tr>\n",
       "      <th>1932600</th>\n",
       "      <td>4</td>\n",
       "      <td>2.0</td>\n",
       "      <td>1820</td>\n",
       "      <td>523630</td>\n",
       "      <td>1955</td>\n",
       "      <td>6124.80</td>\n",
       "      <td>6037</td>\n",
       "      <td>398512.769647</td>\n",
       "      <td>410748.814276</td>\n",
       "      <td>112881.185724</td>\n",
       "      <td>125117.230353</td>\n",
       "    </tr>\n",
       "    <tr>\n",
       "      <th>1362910</th>\n",
       "      <td>5</td>\n",
       "      <td>3.0</td>\n",
       "      <td>3816</td>\n",
       "      <td>687233</td>\n",
       "      <td>1972</td>\n",
       "      <td>8567.92</td>\n",
       "      <td>6037</td>\n",
       "      <td>398512.769647</td>\n",
       "      <td>891689.220395</td>\n",
       "      <td>-204456.220395</td>\n",
       "      <td>288720.230353</td>\n",
       "    </tr>\n",
       "    <tr>\n",
       "      <th>1761877</th>\n",
       "      <td>4</td>\n",
       "      <td>2.0</td>\n",
       "      <td>1600</td>\n",
       "      <td>190359</td>\n",
       "      <td>1992</td>\n",
       "      <td>3196.29</td>\n",
       "      <td>6037</td>\n",
       "      <td>398512.769647</td>\n",
       "      <td>357739.350676</td>\n",
       "      <td>-167380.350676</td>\n",
       "      <td>-208153.769647</td>\n",
       "    </tr>\n",
       "    <tr>\n",
       "      <th>1140986</th>\n",
       "      <td>3</td>\n",
       "      <td>4.0</td>\n",
       "      <td>3287</td>\n",
       "      <td>1280000</td>\n",
       "      <td>1997</td>\n",
       "      <td>13428.88</td>\n",
       "      <td>6059</td>\n",
       "      <td>398512.769647</td>\n",
       "      <td>764225.555647</td>\n",
       "      <td>515774.444353</td>\n",
       "      <td>881487.230353</td>\n",
       "    </tr>\n",
       "  </tbody>\n",
       "</table>\n",
       "</div>"
      ],
      "text/plain": [
       "         bedrooms  bathrooms  sq_feet  tax_value  year_built  tax_amount  \\\n",
       "1634157         3        0.0     3707     556194        1973     5926.30   \n",
       "1932600         4        2.0     1820     523630        1955     6124.80   \n",
       "1362910         5        3.0     3816     687233        1972     8567.92   \n",
       "1761877         4        2.0     1600     190359        1992     3196.29   \n",
       "1140986         3        4.0     3287    1280000        1997    13428.88   \n",
       "\n",
       "         fips  yhat_tax_val_baseline  yhat_tax_val_sq_ft  residual_tax_val  \\\n",
       "1634157  6111          398512.769647       865425.440702    -309231.440702   \n",
       "1932600  6037          398512.769647       410748.814276     112881.185724   \n",
       "1362910  6037          398512.769647       891689.220395    -204456.220395   \n",
       "1761877  6037          398512.769647       357739.350676    -167380.350676   \n",
       "1140986  6059          398512.769647       764225.555647     515774.444353   \n",
       "\n",
       "         residual_baseline  \n",
       "1634157      157681.230353  \n",
       "1932600      125117.230353  \n",
       "1362910      288720.230353  \n",
       "1761877     -208153.769647  \n",
       "1140986      881487.230353  "
      ]
     },
     "execution_count": 13,
     "metadata": {},
     "output_type": "execute_result"
    }
   ],
   "source": [
    "train_viz.head()"
   ]
  },
  {
   "cell_type": "code",
   "execution_count": 14,
   "id": "31f6b3de",
   "metadata": {},
   "outputs": [
    {
     "data": {
      "image/png": "[encoded data removed]",
      "text/plain": [
       "<Figure size 432x288 with 1 Axes>"
      ]
     },
     "metadata": {
      "needs_background": "light"
     },
     "output_type": "display_data"
    },
    {
     "data": {
      "image/png": "[encoded data removed]",
      "text/plain": [
       "<Figure size 432x288 with 1 Axes>"
      ]
     },
     "metadata": {
      "needs_background": "light"
     },
     "output_type": "display_data"
    }
   ],
   "source": [
    "sns.residplot(x=train_viz.tax_value, y=train_viz.residual_tax_val, data=train_viz, line_kws={'color':'red'})\n",
    "plt.show()\n",
    "sns.residplot(x=train_viz.tax_value, y=train_viz.residual_baseline, data=train_viz, line_kws={'color':'red'})\n",
    "plt.show()"
   ]
  },
  {
   "cell_type": "markdown",
   "id": "560d3c92",
   "metadata": {},
   "source": [
    "# Q4"
   ]
  },
  {
   "cell_type": "code",
   "execution_count": 15,
   "id": "1d4e3e55",
   "metadata": {},
   "outputs": [],
   "source": [
    "train_viz['residual^2']= train_viz.residual_tax_val ** 2\n",
    "\n",
    "train_viz['residual_baseline^2']=train_viz.residual_baseline ** 2"
   ]
  },
  {
   "cell_type": "code",
   "execution_count": 16,
   "id": "21239496",
   "metadata": {
    "scrolled": true
   },
   "outputs": [
    {
     "data": {
      "text/html": [
       "<div>\n",
       "<style scoped>\n",
       "    .dataframe tbody tr th:only-of-type {\n",
       "        vertical-align: middle;\n",
       "    }\n",
       "\n",
       "    .dataframe tbody tr th {\n",
       "        vertical-align: top;\n",
       "    }\n",
       "\n",
       "    .dataframe thead th {\n",
       "        text-align: right;\n",
       "    }\n",
       "</style>\n",
       "<table border=\"1\" class=\"dataframe\">\n",
       "  <thead>\n",
       "    <tr style=\"text-align: right;\">\n",
       "      <th></th>\n",
       "      <th>bedrooms</th>\n",
       "      <th>bathrooms</th>\n",
       "      <th>sq_feet</th>\n",
       "      <th>tax_value</th>\n",
       "      <th>year_built</th>\n",
       "      <th>tax_amount</th>\n",
       "      <th>fips</th>\n",
       "      <th>yhat_tax_val_baseline</th>\n",
       "      <th>yhat_tax_val_sq_ft</th>\n",
       "      <th>residual_tax_val</th>\n",
       "      <th>residual_baseline</th>\n",
       "      <th>residual^2</th>\n",
       "      <th>residual_baseline^2</th>\n",
       "    </tr>\n",
       "  </thead>\n",
       "  <tbody>\n",
       "    <tr>\n",
       "      <th>1634157</th>\n",
       "      <td>3</td>\n",
       "      <td>0.0</td>\n",
       "      <td>3707</td>\n",
       "      <td>556194</td>\n",
       "      <td>1973</td>\n",
       "      <td>5926.30</td>\n",
       "      <td>6111</td>\n",
       "      <td>398512.769647</td>\n",
       "      <td>865425.440702</td>\n",
       "      <td>-309231.440702</td>\n",
       "      <td>157681.230353</td>\n",
       "      <td>9.562408e+10</td>\n",
       "      <td>2.486337e+10</td>\n",
       "    </tr>\n",
       "    <tr>\n",
       "      <th>1932600</th>\n",
       "      <td>4</td>\n",
       "      <td>2.0</td>\n",
       "      <td>1820</td>\n",
       "      <td>523630</td>\n",
       "      <td>1955</td>\n",
       "      <td>6124.80</td>\n",
       "      <td>6037</td>\n",
       "      <td>398512.769647</td>\n",
       "      <td>410748.814276</td>\n",
       "      <td>112881.185724</td>\n",
       "      <td>125117.230353</td>\n",
       "      <td>1.274216e+10</td>\n",
       "      <td>1.565432e+10</td>\n",
       "    </tr>\n",
       "    <tr>\n",
       "      <th>1362910</th>\n",
       "      <td>5</td>\n",
       "      <td>3.0</td>\n",
       "      <td>3816</td>\n",
       "      <td>687233</td>\n",
       "      <td>1972</td>\n",
       "      <td>8567.92</td>\n",
       "      <td>6037</td>\n",
       "      <td>398512.769647</td>\n",
       "      <td>891689.220395</td>\n",
       "      <td>-204456.220395</td>\n",
       "      <td>288720.230353</td>\n",
       "      <td>4.180235e+10</td>\n",
       "      <td>8.335937e+10</td>\n",
       "    </tr>\n",
       "    <tr>\n",
       "      <th>1761877</th>\n",
       "      <td>4</td>\n",
       "      <td>2.0</td>\n",
       "      <td>1600</td>\n",
       "      <td>190359</td>\n",
       "      <td>1992</td>\n",
       "      <td>3196.29</td>\n",
       "      <td>6037</td>\n",
       "      <td>398512.769647</td>\n",
       "      <td>357739.350676</td>\n",
       "      <td>-167380.350676</td>\n",
       "      <td>-208153.769647</td>\n",
       "      <td>2.801618e+10</td>\n",
       "      <td>4.332799e+10</td>\n",
       "    </tr>\n",
       "    <tr>\n",
       "      <th>1140986</th>\n",
       "      <td>3</td>\n",
       "      <td>4.0</td>\n",
       "      <td>3287</td>\n",
       "      <td>1280000</td>\n",
       "      <td>1997</td>\n",
       "      <td>13428.88</td>\n",
       "      <td>6059</td>\n",
       "      <td>398512.769647</td>\n",
       "      <td>764225.555647</td>\n",
       "      <td>515774.444353</td>\n",
       "      <td>881487.230353</td>\n",
       "      <td>2.660233e+11</td>\n",
       "      <td>7.770197e+11</td>\n",
       "    </tr>\n",
       "  </tbody>\n",
       "</table>\n",
       "</div>"
      ],
      "text/plain": [
       "         bedrooms  bathrooms  sq_feet  tax_value  year_built  tax_amount  \\\n",
       "1634157         3        0.0     3707     556194        1973     5926.30   \n",
       "1932600         4        2.0     1820     523630        1955     6124.80   \n",
       "1362910         5        3.0     3816     687233        1972     8567.92   \n",
       "1761877         4        2.0     1600     190359        1992     3196.29   \n",
       "1140986         3        4.0     3287    1280000        1997    13428.88   \n",
       "\n",
       "         fips  yhat_tax_val_baseline  yhat_tax_val_sq_ft  residual_tax_val  \\\n",
       "1634157  6111          398512.769647       865425.440702    -309231.440702   \n",
       "1932600  6037          398512.769647       410748.814276     112881.185724   \n",
       "1362910  6037          398512.769647       891689.220395    -204456.220395   \n",
       "1761877  6037          398512.769647       357739.350676    -167380.350676   \n",
       "1140986  6059          398512.769647       764225.555647     515774.444353   \n",
       "\n",
       "         residual_baseline    residual^2  residual_baseline^2  \n",
       "1634157      157681.230353  9.562408e+10         2.486337e+10  \n",
       "1932600      125117.230353  1.274216e+10         1.565432e+10  \n",
       "1362910      288720.230353  4.180235e+10         8.335937e+10  \n",
       "1761877     -208153.769647  2.801618e+10         4.332799e+10  \n",
       "1140986      881487.230353  2.660233e+11         7.770197e+11  "
      ]
     },
     "execution_count": 16,
     "metadata": {},
     "output_type": "execute_result"
    }
   ],
   "source": [
    "train_viz.head()"
   ]
  },
  {
   "cell_type": "code",
   "execution_count": 17,
   "id": "a12be877",
   "metadata": {},
   "outputs": [],
   "source": [
    "sse = sum(train_viz['residual^2'])\n",
    "sse_baseline = sum(train_viz['residual_baseline^2'])"
   ]
  },
  {
   "cell_type": "code",
   "execution_count": 18,
   "id": "442a46b0",
   "metadata": {},
   "outputs": [],
   "source": [
    "sse2=mean_squared_error(train_viz.tax_value, train_viz.yhat_tax_val_sq_ft)*len(train_viz)"
   ]
  },
  {
   "cell_type": "code",
   "execution_count": 19,
   "id": "b4a0fc1f",
   "metadata": {},
   "outputs": [],
   "source": [
    "sse2_baseline=mean_squared_error(train_viz.tax_value, train_viz.yhat_tax_val_baseline)*len(train_viz)"
   ]
  },
  {
   "cell_type": "code",
   "execution_count": 20,
   "id": "b52f6e79",
   "metadata": {},
   "outputs": [
    {
     "data": {
      "text/plain": [
       "86075327518369.81"
      ]
     },
     "execution_count": 20,
     "metadata": {},
     "output_type": "execute_result"
    }
   ],
   "source": [
    "sse2"
   ]
  },
  {
   "cell_type": "code",
   "execution_count": 21,
   "id": "8693d29d",
   "metadata": {},
   "outputs": [
    {
     "data": {
      "text/plain": [
       "134299112350313.8"
      ]
     },
     "execution_count": 21,
     "metadata": {},
     "output_type": "execute_result"
    }
   ],
   "source": [
    "sse2_baseline"
   ]
  },
  {
   "cell_type": "code",
   "execution_count": 22,
   "id": "cd9fb20e",
   "metadata": {},
   "outputs": [
    {
     "data": {
      "text/plain": [
       "86075327518369.8"
      ]
     },
     "execution_count": 22,
     "metadata": {},
     "output_type": "execute_result"
    }
   ],
   "source": [
    "sse"
   ]
  },
  {
   "cell_type": "code",
   "execution_count": 23,
   "id": "0510151a",
   "metadata": {},
   "outputs": [
    {
     "data": {
      "text/plain": [
       "134299112350313.66"
      ]
     },
     "execution_count": 23,
     "metadata": {},
     "output_type": "execute_result"
    }
   ],
   "source": [
    "sse_baseline"
   ]
  },
  {
   "cell_type": "code",
   "execution_count": 24,
   "id": "257b4c68",
   "metadata": {},
   "outputs": [
    {
     "name": "stdout",
     "output_type": "stream",
     "text": [
      "sse manual == sse sklearn:  False\n",
      "sse manual - baseline == sse sklearn - baseline:  False\n"
     ]
    }
   ],
   "source": [
    "print(\"sse manual == sse sklearn: \", sse == sse2) \n",
    "print(\"sse manual - baseline == sse sklearn - baseline: \", sse_baseline == sse2_baseline) "
   ]
  },
  {
   "cell_type": "code",
   "execution_count": 35,
   "id": "7671dd1d",
   "metadata": {},
   "outputs": [],
   "source": [
    "# ESS\n",
    "ess = sum((train_viz.yhat_tax_val_sq_ft - train_viz.yhat_tax_val_baseline)**2)"
   ]
  },
  {
   "cell_type": "code",
   "execution_count": 36,
   "id": "f3187a46",
   "metadata": {},
   "outputs": [
    {
     "data": {
      "text/plain": [
       "48223784831944.1"
      ]
     },
     "execution_count": 36,
     "metadata": {},
     "output_type": "execute_result"
    }
   ],
   "source": [
    "ess"
   ]
  },
  {
   "cell_type": "code",
   "execution_count": 37,
   "id": "0291925a",
   "metadata": {},
   "outputs": [],
   "source": [
    "# TSS\n",
    "tss = ess + sse"
   ]
  },
  {
   "cell_type": "code",
   "execution_count": 38,
   "id": "550df97b",
   "metadata": {},
   "outputs": [
    {
     "data": {
      "text/plain": [
       "134299112350313.9"
      ]
     },
     "execution_count": 38,
     "metadata": {},
     "output_type": "execute_result"
    }
   ],
   "source": [
    "tss"
   ]
  },
  {
   "cell_type": "code",
   "execution_count": 66,
   "id": "da8b913b",
   "metadata": {},
   "outputs": [],
   "source": [
    "R2 = ess/tss"
   ]
  },
  {
   "cell_type": "code",
   "execution_count": 67,
   "id": "ed8486ba",
   "metadata": {},
   "outputs": [
    {
     "data": {
      "text/plain": [
       "0.35907746512988314"
      ]
     },
     "execution_count": 67,
     "metadata": {},
     "output_type": "execute_result"
    }
   ],
   "source": [
    "R2"
   ]
  },
  {
   "cell_type": "code",
   "execution_count": 40,
   "id": "c4bd2600",
   "metadata": {},
   "outputs": [],
   "source": [
    "mse2 = mean_squared_error(train_viz.tax_value, train_viz.yhat_tax_val_sq_ft)"
   ]
  },
  {
   "cell_type": "code",
   "execution_count": 41,
   "id": "d631cf01",
   "metadata": {},
   "outputs": [
    {
     "data": {
      "text/plain": [
       "73380500868.17546"
      ]
     },
     "execution_count": 41,
     "metadata": {},
     "output_type": "execute_result"
    }
   ],
   "source": [
    "mse2"
   ]
  },
  {
   "cell_type": "code",
   "execution_count": 42,
   "id": "894720b2",
   "metadata": {},
   "outputs": [],
   "source": [
    "mse2_baseline = mean_squared_error(train_viz.tax_value, train_viz.yhat_tax_val_baseline)"
   ]
  },
  {
   "cell_type": "code",
   "execution_count": 43,
   "id": "53ead650",
   "metadata": {},
   "outputs": [
    {
     "data": {
      "text/plain": [
       "114491996888.58806"
      ]
     },
     "execution_count": 43,
     "metadata": {},
     "output_type": "execute_result"
    }
   ],
   "source": [
    "mse2_baseline"
   ]
  },
  {
   "cell_type": "code",
   "execution_count": 50,
   "id": "4a5f2fad",
   "metadata": {},
   "outputs": [],
   "source": [
    "rmse = math.sqrt(mean_squared_error(train_viz.tax_value, train_viz.yhat_tax_val_sq_ft))"
   ]
  },
  {
   "cell_type": "code",
   "execution_count": 51,
   "id": "2ef48ac7",
   "metadata": {},
   "outputs": [
    {
     "data": {
      "text/plain": [
       "270888.3549881306"
      ]
     },
     "execution_count": 51,
     "metadata": {},
     "output_type": "execute_result"
    }
   ],
   "source": [
    "rmse"
   ]
  },
  {
   "cell_type": "markdown",
   "id": "7b54940d",
   "metadata": {},
   "source": [
    "# Q5"
   ]
  },
  {
   "cell_type": "code",
   "execution_count": 52,
   "id": "414c9a3f",
   "metadata": {},
   "outputs": [],
   "source": [
    "sse3=mean_squared_error(train_viz.yhat_tax_val_baseline, train_viz.yhat_tax_val_sq_ft)*len(train_viz)"
   ]
  },
  {
   "cell_type": "code",
   "execution_count": 54,
   "id": "c98f7ba5",
   "metadata": {},
   "outputs": [],
   "source": [
    "mse3 = mean_squared_error(train_viz.yhat_tax_val_baseline, train_viz.yhat_tax_val_sq_ft)"
   ]
  },
  {
   "cell_type": "code",
   "execution_count": 55,
   "id": "48941a21",
   "metadata": {},
   "outputs": [],
   "source": [
    "rmse3 = math.sqrt(mean_squared_error(train_viz.yhat_tax_val_baseline, train_viz.yhat_tax_val_sq_ft))"
   ]
  },
  {
   "cell_type": "markdown",
   "id": "ff33a665",
   "metadata": {},
   "source": [
    "# Q6"
   ]
  },
  {
   "cell_type": "code",
   "execution_count": 57,
   "id": "2443f870",
   "metadata": {},
   "outputs": [
    {
     "name": "stdout",
     "output_type": "stream",
     "text": [
      "sse2 better\n"
     ]
    }
   ],
   "source": [
    "if sse2 > sse3:\n",
    "    print('sse2 better')\n",
    "else:\n",
    "    print('sse3 better')"
   ]
  },
  {
   "cell_type": "code",
   "execution_count": 58,
   "id": "ff86e545",
   "metadata": {},
   "outputs": [
    {
     "data": {
      "text/plain": [
       "48223784831944.07"
      ]
     },
     "execution_count": 58,
     "metadata": {},
     "output_type": "execute_result"
    }
   ],
   "source": [
    "sse3"
   ]
  },
  {
   "cell_type": "code",
   "execution_count": 59,
   "id": "9dc0c2d7",
   "metadata": {},
   "outputs": [
    {
     "data": {
      "text/plain": [
       "86075327518369.81"
      ]
     },
     "execution_count": 59,
     "metadata": {},
     "output_type": "execute_result"
    }
   ],
   "source": [
    "sse2"
   ]
  },
  {
   "cell_type": "code",
   "execution_count": 60,
   "id": "41903a43",
   "metadata": {},
   "outputs": [
    {
     "name": "stdout",
     "output_type": "stream",
     "text": [
      "mse2 better\n"
     ]
    }
   ],
   "source": [
    "if mse2 > mse3:\n",
    "    print('mse2 better')\n",
    "else:\n",
    "    print('mse3 better')"
   ]
  },
  {
   "cell_type": "code",
   "execution_count": 61,
   "id": "35bfd1e6",
   "metadata": {},
   "outputs": [
    {
     "data": {
      "text/plain": [
       "41111496020.412674"
      ]
     },
     "execution_count": 61,
     "metadata": {},
     "output_type": "execute_result"
    }
   ],
   "source": [
    "mse3"
   ]
  },
  {
   "cell_type": "code",
   "execution_count": 62,
   "id": "76e781cf",
   "metadata": {},
   "outputs": [
    {
     "data": {
      "text/plain": [
       "73380500868.17546"
      ]
     },
     "execution_count": 62,
     "metadata": {},
     "output_type": "execute_result"
    }
   ],
   "source": [
    "mse2"
   ]
  },
  {
   "cell_type": "code",
   "execution_count": 63,
   "id": "45e691e9",
   "metadata": {},
   "outputs": [
    {
     "name": "stdout",
     "output_type": "stream",
     "text": [
      "rmse better\n"
     ]
    }
   ],
   "source": [
    "if rmse>rmse3:\n",
    "    print('rmse better')\n",
    "else:\n",
    "    print('rmse3 better')"
   ]
  },
  {
   "cell_type": "code",
   "execution_count": 64,
   "id": "c414394f",
   "metadata": {},
   "outputs": [
    {
     "data": {
      "text/plain": [
       "202759.70018820968"
      ]
     },
     "execution_count": 64,
     "metadata": {},
     "output_type": "execute_result"
    }
   ],
   "source": [
    "rmse3"
   ]
  },
  {
   "cell_type": "code",
   "execution_count": 65,
   "id": "5d295875",
   "metadata": {},
   "outputs": [
    {
     "data": {
      "text/plain": [
       "270888.3549881306"
      ]
     },
     "execution_count": 65,
     "metadata": {},
     "output_type": "execute_result"
    }
   ],
   "source": [
    "rmse"
   ]
  },
  {
   "cell_type": "code",
   "execution_count": null,
   "id": "e2114703",
   "metadata": {},
   "outputs": [],
   "source": []
  }
 ],
 "metadata": {
  "kernelspec": {
   "display_name": "Python 3 (ipykernel)",
   "language": "python",
   "name": "python3"
  },
  "language_info": {
   "codemirror_mode": {
    "name": "ipython",
    "version": 3
   },
   "file_extension": ".py",
   "mimetype": "text/x-python",
   "name": "python",
   "nbconvert_exporter": "python",
   "pygments_lexer": "ipython3",
   "version": "3.9.12"
  }
 },
 "nbformat": 4,
 "nbformat_minor": 5
}
