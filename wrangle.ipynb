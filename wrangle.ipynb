{
 "cells": [
  {
   "cell_type": "code",
   "execution_count": 19,
   "id": "baf4adcc",
   "metadata": {},
   "outputs": [],
   "source": [
    "import os\n",
    "import env\n",
    "import pandas as pd\n",
    "import numpy as np\n",
    "import seaborn as sns\n",
    "\n",
    "\n",
    "def get_properties_data():\n",
    "    filename = \"properties_2017.csv\"\n",
    "\n",
    "    if os.path.isfile(filename):\n",
    "        return pd.read_csv(filename)\n",
    "    else:\n",
    "        # read the SQL query into a dataframe\n",
    "        df = pd.read_sql('SELECT bedroomcnt, bathroomcnt, calculatedfinishedsquarefeet, taxvaluedollarcnt, yearbuilt, taxamount, fips FROM properties_2017', env.get_db_url('zillow'))\n",
    "\n",
    "        # Write that dataframe to disk for later. Called \"caching\" the data for later.\n",
    "        df.to_csv(filename)\n",
    "\n",
    "        # Return the dataframe to the calling code\n",
    "        return df\n",
    "\n",
    "def wrangle_zillow():\n",
    "    '''\n",
    "    Read properties_2017 into a pandas DataFrame from mySQL,\n",
    "    replace whitespaces with NaN values,\n",
    "    drop any rows with Null values in calculatedfinishedsquarefeet,\n",
    "    convert all columns to float,\n",
    "    return cleaned properties DataFrame.\n",
    "    '''\n",
    "\n",
    "    # Acquire data\n",
    "\n",
    "    properties = get_properties_data()\n",
    "\n",
    "    # Replace white space values with NaN values.\n",
    "    df = properties.replace(r'^\\s*$', np.nan, regex=True)\n",
    "\n",
    "    # Drop all rows with NaN values.\n",
    "    df = df[df['calculatedfinishedsquarefeet'].notna()]\n",
    "\n",
    "    # Convert all columns to int64 data types.\n",
    "    df = df.astype('float')\n",
    "    \n",
    "    # Drop unwanted columns\n",
    "    df = df.drop(columns='Unnamed: 0')\n",
    "\n",
    "    return df\n"
   ]
  }
 ],
 "metadata": {
  "kernelspec": {
   "display_name": "Python 3 (ipykernel)",
   "language": "python",
   "name": "python3"
  },
  "language_info": {
   "codemirror_mode": {
    "name": "ipython",
    "version": 3
   },
   "file_extension": ".py",
   "mimetype": "text/x-python",
   "name": "python",
   "nbconvert_exporter": "python",
   "pygments_lexer": "ipython3",
   "version": "3.9.12"
  }
 },
 "nbformat": 4,
 "nbformat_minor": 5
}
